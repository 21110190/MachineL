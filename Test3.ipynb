{
 "cells": [
  {
   "cell_type": "code",
   "execution_count": 2,
   "metadata": {},
   "outputs": [],
   "source": [
    "# Import different modules for using with the notebook\n",
    "import numpy as np\n",
    "import matplotlib\n",
    "import matplotlib.pyplot as plt\n",
    "import matplotlib.cm as cm\n",
    "from IPython.display import HTML\n",
    "from IPython.display import display\n",
    "from IPython.display import Image\n",
    "\n",
    "from sklearn.decomposition import PCA\n",
    "from sklearn.discriminant_analysis import LinearDiscriminantAnalysis as LDA\n",
    "from sklearn.metrics import confusion_matrix\n",
    "from sklearn.cluster import KMeans\n",
    "from sklearn.mixture import GaussianMixture as GMM\n",
    "\n",
    "from numpy.random import randint\n",
    "from skimage import io\n",
    "from ipywidgets import interact\n",
    "from matplotlib.patches import Ellipse"
   ]
  },
  {
   "cell_type": "code",
   "execution_count": 41,
   "metadata": {},
   "outputs": [
    {
     "name": "stdout",
     "output_type": "stream",
     "text": [
      "[2, 3]\n",
      "[0.6, 0.4]\n",
      "[2.0, 3.0]\n",
      "[None]\n"
     ]
    },
    {
     "data": {
      "text/plain": [
       "[0.5229457618359588]"
      ]
     },
     "execution_count": 41,
     "metadata": {},
     "output_type": "execute_result"
    }
   ],
   "source": [
    "import math\n",
    "gamma_znj = 0.\n",
    "mu1 = 2\n",
    "sig1 = 4\n",
    "mu2 = 3\n",
    "sig2 = 9\n",
    "pi1 = 0.6\n",
    "pi2 = 0.4\n",
    "x = [5]\n",
    "mu_array = [mu1,  mu2]\n",
    "pi_array = [pi1, pi2]\n",
    "col_cov = ([math.sqrt(sig1),math.sqrt(sig2)])\n",
    "r = np.zeros((1,2))\n",
    "g = [None]*len(x)\n",
    "\n",
    "print(mu_array)\n",
    "print(pi_array)\n",
    "print(col_cov)\n",
    "print(g)\n",
    "\n",
    "def estimate_gamma(p,u,s,x,c):\n",
    "    import math\n",
    "    from math import exp\n",
    "    from math import sqrt\n",
    "    \n",
    "    \n",
    "    g = [None]*len(x)\n",
    "    \n",
    "    for n in range(len(x)): \n",
    "        num = p[c]*((1/(s[c]*sqrt(2*math.pi)))*math.exp((-1/2)*((x[n]-u[c])/s[c])**2)) \n",
    "        \n",
    "        den_sum = 0\n",
    "        for i in range(len(u)):\n",
    "            den = p[i]*((1/(s[i]*sqrt(2*math.pi)))*math.exp((-1/2)*((x[n]-u[i])/s[i])**2))\n",
    "            den_sum = den_sum + den \n",
    "        \n",
    "        \n",
    "        \n",
    "        g[n] = float(num/den_sum)\n",
    "    \n",
    "    return g\n",
    "\n",
    "estimate_gamma(pi_array,mu_array,col_cov,[5],1)"
   ]
  },
  {
   "cell_type": "code",
   "execution_count": 28,
   "metadata": {},
   "outputs": [
    {
     "data": {
      "text/plain": [
       "[0.7492347090660089, 0.28792871203468484, 0.24871729890449476]"
      ]
     },
     "execution_count": 28,
     "metadata": {},
     "output_type": "execute_result"
    }
   ],
   "source": [
    "def estimate_gamma(p,u,s,x,c):\n",
    "    import math\n",
    "    from math import exp\n",
    "    from math import sqrt\n",
    "    \n",
    "    \n",
    "    g = [None]*len(x)\n",
    "    \n",
    "    for n in range(len(x)): \n",
    "        num = p[c]*((1/(s[c]*sqrt(2*math.pi)))*math.exp((-1/2)*((x[n]-u[c])/s[c])**2)) \n",
    "        \n",
    "        den_sum = 0\n",
    "        for i in range(len(u)):\n",
    "            den = p[i]*((1/(s[i]*sqrt(2*math.pi)))*math.exp((-1/2)*((x[n]-u[i])/s[i])**2))\n",
    "            den_sum = den_sum + den \n",
    "        \n",
    "        \n",
    "        \n",
    "        g[n] = float(num/den_sum)\n",
    "    \n",
    "    return g\n",
    "\n",
    "X = np.array([[4.4, 9.4],[9.2, 3.8]])\n",
    "u1 = np.array([[1, 1]])\n",
    "\n",
    "estimate_gamma([0.4,0.6],[0,1],[1,1],[-1,1,1.2],0)\n",
    "estimate_gamma([0.4,0.6],u1,[1,1],X,0)"
   ]
  },
  {
   "cell_type": "code",
   "execution_count": 4,
   "metadata": {},
   "outputs": [
    {
     "name": "stdout",
     "output_type": "stream",
     "text": [
      "[[4.4 9.4]\n",
      " [9.2 3.8]]\n",
      "0.5\n",
      "[[46.96  25.264]\n",
      " [25.264 31.6  ]]\n"
     ]
    }
   ],
   "source": [
    "import numpy as np\n",
    "X = np.array([[4.4, 9.4],[9.2, 3.8]])\n",
    "# X = np.array([[9.1, 5.2],[8, 7.6]])\n",
    "\n",
    "print(X)\n",
    "u = np.array([1,1])\n",
    "\n",
    "g = [0.2, 0.3]\n",
    "\n",
    "d,N = X.shape\n",
    "\n",
    "\n",
    "N_1 = 0.2+0.3\n",
    "\n",
    "u = u.reshape(d,1)\n",
    "\n",
    "cov = np.zeros((d,d),)\n",
    "for n in range(N):\n",
    "    m = X[:,n].reshape(d,1) - u\n",
    "    cov = cov + g[n]*np.matmul(m,m.T)\n",
    "    \n",
    "cov = cov/N_1\n",
    "print(N_1)\n",
    "print(cov)"
   ]
  },
  {
   "cell_type": "code",
   "execution_count": null,
   "metadata": {},
   "outputs": [],
   "source": [
    "nstd = 2\n",
    "w0 = 3\n",
    "v0 = np.array([[0.7071], [0.7071]])\n",
    "w1 = 1\n",
    "v1 = np.array([[-0.7071], [0.7071]])\n",
    "\n",
    "\n",
    "width0 = 2*math.sqrt(w0[0])*nstd \n",
    "height0 = 2*math.sqrt(w0[1])*nstd\n",
    "\n",
    "width1 = 2*math.sqrt(w1[0])*nstd \n",
    "height1 = 2*math.sqrt(w1[1])*nstd \n",
    "\n",
    "angle0 = math.atan2(v0[1,0], v0[0,0]) \n",
    "angle1 = math.atan2(v1[1,0], v1[0,0]) \n",
    "\n",
    "\n",
    "if(angle0 < 0):\n",
    "        angle0 += 6.28318530718;\n",
    "\n",
    "#   Convert to degrees \n",
    "angle0 = 180*angle0/math.pi;\n",
    "\n",
    "if(angle1 < 0):\n",
    "        angle1 += (2*math.pi);\n",
    "\n",
    "angle1 = 180*angle1/3.14159265359;\n",
    "    \n",
    "\n",
    "\n",
    "plt.figure()\n",
    "ax = plt.gca()\n",
    "\n",
    "\n",
    "ellipse0 = Ellipse(xy=(mu_array[0,0], mu_array[1,0]), width=width0, height=height0, angle = angle0,\n",
    "                        edgecolor='r', fc='None')\n",
    "ellipse1 = Ellipse(xy=(mu_array[0,1], mu_array[1,1]), width=width1, height=height1, angle = angle1,\n",
    "                        edgecolor='g', fc='None')\n",
    "ax.add_patch(ellipse0)\n",
    "ax.add_patch(ellipse1)\n",
    "\n",
    "for n in range(N):\n",
    "    plt.plot(X[0,n],X[1,n],'o',color=(r[n][0],r[n][1],0,0.1))\n",
    "\n",
    "plt.axis('tight')\n",
    "     \n",
    "plt.xlabel(\"$x_1$\")\n",
    "plt.ylabel(\"$x_2$\")\n",
    "plt.title(\"Class labels given\")\n",
    "plt.show()   "
   ]
  }
 ],
 "metadata": {
  "kernelspec": {
   "display_name": "Python 3",
   "language": "python",
   "name": "python3"
  },
  "language_info": {
   "codemirror_mode": {
    "name": "ipython",
    "version": 3
   },
   "file_extension": ".py",
   "mimetype": "text/x-python",
   "name": "python",
   "nbconvert_exporter": "python",
   "pygments_lexer": "ipython3",
   "version": "3.7.4"
  }
 },
 "nbformat": 4,
 "nbformat_minor": 2
}
